{
  "nbformat": 4,
  "nbformat_minor": 0,
  "metadata": {
    "colab": {
      "name": "MLP digits recognition using Tensorflow and Keras.ipynb",
      "provenance": [],
      "authorship_tag": "ABX9TyOKzGkyu6/xIJDPF+4+7mk9",
      "include_colab_link": true
    },
    "kernelspec": {
      "name": "python3",
      "display_name": "Python 3"
    }
  },
  "cells": [
    {
      "cell_type": "markdown",
      "metadata": {
        "id": "view-in-github",
        "colab_type": "text"
      },
      "source": [
        "<a href=\"https://colab.research.google.com/github/Keerthana0309/MLP-digits-recognition-using-Tensorflow-and-Keras/blob/master/MLP_digits_recognition_using_Tensorflow_and_Keras.ipynb\" target=\"_parent\"><img src=\"https://colab.research.google.com/assets/colab-badge.svg\" alt=\"Open In Colab\"/></a>"
      ]
    },
    {
      "cell_type": "markdown",
      "metadata": {
        "id": "xlvHpBkUcYTd",
        "colab_type": "text"
      },
      "source": [
        "**Import Modules**"
      ]
    },
    {
      "cell_type": "code",
      "metadata": {
        "id": "fuzuDlJ8caqF",
        "colab_type": "code",
        "colab": {
          "base_uri": "https://localhost:8080/",
          "height": 34
        },
        "outputId": "1f3247a2-953d-4fb3-cd5c-93bed69bc923"
      },
      "source": [
        "from __future__ import absolute_import,unicode_literals,division,\\\n",
        "                        print_function \n",
        "import tensorflow as tf\n",
        "import matplotlib.pyplot as plt\n",
        "import numpy as np\n",
        "\n",
        "print(tf.version.VERSION)"
      ],
      "execution_count": 1,
      "outputs": [
        {
          "output_type": "stream",
          "text": [
            "2.3.0\n"
          ],
          "name": "stdout"
        }
      ]
    },
    {
      "cell_type": "markdown",
      "metadata": {
        "id": "23MgJ60WdEI6",
        "colab_type": "text"
      },
      "source": [
        "**Load the MNIST data**"
      ]
    },
    {
      "cell_type": "code",
      "metadata": {
        "id": "5qWYGWlwdJxy",
        "colab_type": "code",
        "colab": {
          "base_uri": "https://localhost:8080/",
          "height": 51
        },
        "outputId": "15df5a1d-c615-4ed7-cc24-c19ac35d48f8"
      },
      "source": [
        "mnist = tf.keras.datasets.mnist\n",
        "(x_train,y_train), (x_test,y_test) = mnist.load_data()\n",
        "x_train = tf.keras.utils.normalize(x_train, axis=1)\n",
        "x_test = tf.keras.utils.normalize(x_test, axis=1)\n",
        "print(x_train.shape, x_test.shape, x_train.ndim)\n",
        "print(x_train.dtype, x_train.size)"
      ],
      "execution_count": 4,
      "outputs": [
        {
          "output_type": "stream",
          "text": [
            "(60000, 28, 28) (10000, 28, 28) 3\n",
            "float64 47040000\n"
          ],
          "name": "stdout"
        }
      ]
    },
    {
      "cell_type": "code",
      "metadata": {
        "id": "KL5Wgt0Qe-R9",
        "colab_type": "code",
        "colab": {
          "base_uri": "https://localhost:8080/",
          "height": 282
        },
        "outputId": "ae331707-8139-4471-943c-cb66525c5814"
      },
      "source": [
        "plt.imshow(x_train[80], cmap=plt.cm.binary)"
      ],
      "execution_count": 6,
      "outputs": [
        {
          "output_type": "execute_result",
          "data": {
            "text/plain": [
              "<matplotlib.image.AxesImage at 0x7ff79b494128>"
            ]
          },
          "metadata": {
            "tags": []
          },
          "execution_count": 6
        },
        {
          "output_type": "display_data",
          "data": {
            "image/png": "[encoded data removed]",
            "text/plain": [
              "<Figure size 432x288 with 1 Axes>"
            ]
          },
          "metadata": {
            "tags": [],
            "needs_background": "light"
          }
        }
      ]
    },
    {
      "cell_type": "markdown",
      "metadata": {
        "id": "xLRDJ8bl4r-E",
        "colab_type": "text"
      },
      "source": [
        "**Setting a MLP model**"
      ]
    },
    {
      "cell_type": "code",
      "metadata": {
        "id": "PiGUe8o-5QpH",
        "colab_type": "code",
        "colab": {}
      },
      "source": [
        "MLP = tf.keras.models.Sequential()  # feed forwrd types of nets\n",
        "MLP.add(tf.keras.layers.Flatten())  # input layer: insteed of 28 by 28 \n",
        "                                      # we use one-dimentional array\n",
        "MLP.add(tf.keras.layers.Dense(128, activation=tf.nn.relu)) # 1st hidden layer: \n",
        "                               #128 neurons on this layer, densily connected\n",
        "MLP.add(tf.keras.layers.Dense(128, activation=tf.nn.relu)) # 2nd hidden layer: \n",
        "                               #128 neurons on this layer, densily connected\n",
        "MLP.add(tf.keras.layers.Dense(10, activation=tf.nn.softmax)) # oupt layer: \n",
        "                               #10 neurons for 10 digits, densily connected"
      ],
      "execution_count": 7,
      "outputs": []
    },
    {
      "cell_type": "markdown",
      "metadata": {
        "id": "iiWSdIsj5WLF",
        "colab_type": "text"
      },
      "source": [
        "**Train the MLP model**"
      ]
    },
    {
      "cell_type": "code",
      "metadata": {
        "id": "e_9diYAZ5Y7b",
        "colab_type": "code",
        "colab": {
          "base_uri": "https://localhost:8080/",
          "height": 136
        },
        "outputId": "02077b7a-bab4-4a06-94a4-b5e76355c694"
      },
      "source": [
        "MLP.compile(optimizer='adam', loss='sparse_categorical_crossentropy',metrics=['accuracy'])\n",
        "MLP.fit(x_train, y_train, epochs=3)"
      ],
      "execution_count": 9,
      "outputs": [
        {
          "output_type": "stream",
          "text": [
            "Epoch 1/3\n",
            "1875/1875 [==============================] - 4s 2ms/step - loss: 0.2618 - accuracy: 0.9240\n",
            "Epoch 2/3\n",
            "1875/1875 [==============================] - 4s 2ms/step - loss: 0.1057 - accuracy: 0.9675\n",
            "Epoch 3/3\n",
            "1875/1875 [==============================] - 4s 2ms/step - loss: 0.0702 - accuracy: 0.9774\n"
          ],
          "name": "stdout"
        },
        {
          "output_type": "execute_result",
          "data": {
            "text/plain": [
              "<tensorflow.python.keras.callbacks.History at 0x7ff794e25fd0>"
            ]
          },
          "metadata": {
            "tags": []
          },
          "execution_count": 9
        }
      ]
    },
    {
      "cell_type": "code",
      "metadata": {
        "id": "EjsZH-wI58ft",
        "colab_type": "code",
        "colab": {
          "base_uri": "https://localhost:8080/",
          "height": 289
        },
        "outputId": "2c5b67e7-a53b-4916-b912-07dba54ac93b"
      },
      "source": [
        "MLP.summary()"
      ],
      "execution_count": 10,
      "outputs": [
        {
          "output_type": "stream",
          "text": [
            "Model: \"sequential\"\n",
            "_________________________________________________________________\n",
            "Layer (type)                 Output Shape              Param #   \n",
            "=================================================================\n",
            "flatten (Flatten)            (32, 784)                 0         \n",
            "_________________________________________________________________\n",
            "dense (Dense)                (32, 128)                 100480    \n",
            "_________________________________________________________________\n",
            "dense_1 (Dense)              (32, 128)                 16512     \n",
            "_________________________________________________________________\n",
            "dense_2 (Dense)              (32, 10)                  1290      \n",
            "=================================================================\n",
            "Total params: 118,282\n",
            "Trainable params: 118,282\n",
            "Non-trainable params: 0\n",
            "_________________________________________________________________\n"
          ],
          "name": "stdout"
        }
      ]
    },
    {
      "cell_type": "markdown",
      "metadata": {
        "id": "9pWGSh-L6JXW",
        "colab_type": "text"
      },
      "source": [
        "**Evaluating the trained MLP model for predictions**"
      ]
    },
    {
      "cell_type": "code",
      "metadata": {
        "id": "de_9Pmx964M4",
        "colab_type": "code",
        "colab": {
          "base_uri": "https://localhost:8080/",
          "height": 85
        },
        "outputId": "f2b6eb6a-4c75-4342-8fe6-ee1042d69e9d"
      },
      "source": [
        "train_loss, train_acc = MLP.evaluate(x_train,y_train, verbose=2)\n",
        "print('For training data, loss=',train_loss,' accuracy=',train_acc)\n",
        "test_loss, test_acc = MLP.evaluate(x_test, y_test, verbose=2)\n",
        "print('For test data, loss=',test_loss,' accuracy=',test_acc)"
      ],
      "execution_count": 11,
      "outputs": [
        {
          "output_type": "stream",
          "text": [
            "1875/1875 - 2s - loss: 0.0451 - accuracy: 0.9859\n",
            "For training data, loss= 0.045111797749996185  accuracy= 0.9858999848365784\n",
            "313/313 - 0s - loss: 0.0897 - accuracy: 0.9735\n",
            "For test data, loss= 0.08965188264846802  accuracy= 0.9735000133514404\n"
          ],
          "name": "stdout"
        }
      ]
    },
    {
      "cell_type": "code",
      "metadata": {
        "id": "W0jaJ-kC6AXG",
        "colab_type": "code",
        "colab": {
          "base_uri": "https://localhost:8080/",
          "height": 316
        },
        "outputId": "c5042ffa-5123-42d4-cd08-cd83f3328fc7"
      },
      "source": [
        "MLPpred_test = MLP.predict(x_test)   #do the prediction  \n",
        "print('Predicted digit:',np.argmax(MLPpred_test[65]))\n",
        "print('The actual label:',y_test[65]) \n",
        "print('The actual image:')\n",
        "plt.imshow(x_test[65],cmap=plt.cm.binary)\n",
        "plt.show() "
      ],
      "execution_count": 14,
      "outputs": [
        {
          "output_type": "stream",
          "text": [
            "Predicted digit: 4\n",
            "The actual label: 4\n",
            "The actual image:\n"
          ],
          "name": "stdout"
        },
        {
          "output_type": "display_data",
          "data": {
            "image/png": "[encoded data removed]",
            "text/plain": [
              "<Figure size 432x288 with 1 Axes>"
            ]
          },
          "metadata": {
            "tags": [],
            "needs_background": "light"
          }
        }
      ]
    },
    {
      "cell_type": "code",
      "metadata": {
        "id": "lFIjam4_BnKD",
        "colab_type": "code",
        "colab": {
          "base_uri": "https://localhost:8080/",
          "height": 316
        },
        "outputId": "ec32dab2-21c8-4ec6-98bb-ea576ace1d62"
      },
      "source": [
        "MLPpred_test = MLP.predict(x_test)   #do the prediction  \n",
        "print('Predicted digit:',np.argmax(MLPpred_test[867]))\n",
        "print('The actual label:',y_test[867]) \n",
        "print('The actual image:')\n",
        "plt.imshow(x_test[867],cmap=plt.cm.binary)\n",
        "plt.show() "
      ],
      "execution_count": 15,
      "outputs": [
        {
          "output_type": "stream",
          "text": [
            "Predicted digit: 2\n",
            "The actual label: 2\n",
            "The actual image:\n"
          ],
          "name": "stdout"
        },
        {
          "output_type": "display_data",
          "data": {
            "image/png": "[encoded data removed]",
            "text/plain": [
              "<Figure size 432x288 with 1 Axes>"
            ]
          },
          "metadata": {
            "tags": [],
            "needs_background": "light"
          }
        }
      ]
    },
    {
      "cell_type": "code",
      "metadata": {
        "id": "uJAiFhKnB2jq",
        "colab_type": "code",
        "colab": {
          "base_uri": "https://localhost:8080/",
          "height": 316
        },
        "outputId": "432784f9-f74a-4465-e524-439a5614662d"
      },
      "source": [
        "MLPpred_test = MLP.predict(x_test)   #do the prediction  \n",
        "print('Predicted digit:',np.argmax(MLPpred_test[500]))\n",
        "print('The actual label:',y_test[500]) \n",
        "print('The actual image:')\n",
        "plt.imshow(x_test[500],cmap=plt.cm.binary)\n",
        "plt.show() "
      ],
      "execution_count": 16,
      "outputs": [
        {
          "output_type": "stream",
          "text": [
            "Predicted digit: 3\n",
            "The actual label: 3\n",
            "The actual image:\n"
          ],
          "name": "stdout"
        },
        {
          "output_type": "display_data",
          "data": {
            "image/png": "[encoded data removed]",
            "text/plain": [
              "<Figure size 432x288 with 1 Axes>"
            ]
          },
          "metadata": {
            "tags": [],
            "needs_background": "light"
          }
        }
      ]
    },
    {
      "cell_type": "markdown",
      "metadata": {
        "id": "YwZ0ln628gpI",
        "colab_type": "text"
      },
      "source": [
        "**The accuracy is 97% on this MNIST test dataset, which is among the best models of all the different types of models we have trained so far.**\n"
      ]
    }
  ]
}